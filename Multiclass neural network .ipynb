{
 "cells": [
  {
   "cell_type": "code",
   "execution_count": 2,
   "id": "ac0814db-2756-41d8-a9b8-cd3c60465ce2",
   "metadata": {},
   "outputs": [],
   "source": [
    "# Import the libraries we need for this lab\n",
    "\n",
    "# Using the following line code to install the torchvision library\n",
    "# !mamba install -y torchvision\n",
    "\n",
    "import torch \n",
    "import torch.nn as nn\n",
    "import torchvision.transforms as transforms\n",
    "import torchvision.datasets as dsets\n",
    "import torch.nn.functional as F\n",
    "import matplotlib.pylab as plt\n",
    "import numpy as np"
   ]
  },
  {
   "cell_type": "code",
   "execution_count": 5,
   "id": "d1276041-4a3d-4fd0-9d39-9cd09d597cd7",
   "metadata": {},
   "outputs": [],
   "source": [
    "# Define function to plot accuracy and loss\n",
    "def plot_accuracy_loss(training_results):\n",
    "    plt.subplot(2,1,1)\n",
    "    plt.plot(training_results['training_loss'],'r')\n",
    "    plt.ylabel('loss')\n",
    "    plt.title('training loss iteration')\n",
    "    plt.subplot(2,1,2)\n",
    "    plt.ylabel('accuracy')\n",
    "    plt.xlabel('epochs')\n",
    "    plt.show()"
   ]
  },
  {
   "cell_type": "code",
   "execution_count": 7,
   "id": "7f451738-d09e-4f1b-a732-be458bc9827e",
   "metadata": {},
   "outputs": [],
   "source": [
    "# Define function to plot model parameters \n",
    "def print_model_parameters(model):\n",
    "    count = 0\n",
    "    for ele in model.state_dict():\n",
    "        count +=1\n",
    "        if count % 2 != 0:\n",
    "            print(\"The following are the parameters for layer\", count //2+1)\n",
    "        if ele.find(\"bias\") != -1:\n",
    "            print(\"The size of bias:\", model.state_dict()[ele].size())\n",
    "        else:\n",
    "            print(\"The size of weight:\", model.state_dict()[ele].size())"
   ]
  },
  {
   "cell_type": "code",
   "execution_count": 8,
   "id": "ff232156-dbe5-46cf-b1a5-5522782d01de",
   "metadata": {},
   "outputs": [],
   "source": [
    "# Define the neural network module or class :\n",
    "def show_data(data_sample):\n",
    "    plt.imshow(data_sample.numpy().reshape(28,28), cmap='gray')\n",
    "    plt.show()"
   ]
  },
  {
   "cell_type": "code",
   "execution_count": 10,
   "id": "20db6d31-8abc-47c0-aa67-a1741eb64ccd",
   "metadata": {},
   "outputs": [],
   "source": [
    "# Define neural network class \n",
    "\n",
    "class Net(nn.Module):\n",
    "\n",
    "    # Constructor \n",
    "    def __init__(self, D_in, H, D_out):\n",
    "        super(Net, self).__init__()\n",
    "        self.linear1 = nn.Linear(D_in, H)\n",
    "        self.linear2 = nn.Linear(H, D_out)\n",
    "\n",
    "    # Predictor \n",
    "    def forward(self, x):\n",
    "        x = torch.sigmoid(self.linear1(x))\n",
    "        x = self.linear2(x)\n",
    "        return x"
   ]
  },
  {
   "cell_type": "code",
   "execution_count": 38,
   "id": "fedb2112-a424-4ae5-86dd-bc59d4c8c47a",
   "metadata": {},
   "outputs": [],
   "source": [
    "# Define training function to train model \n",
    "\n",
    "def train(model, criterion, train_loader, validation_loader, optimizer, epochs=100):\n",
    "    i = 0\n",
    "    useful_stuff= {'training_loss':[], 'validation_accuracy':[]}\n",
    "    for epoch in range(epochs):\n",
    "        for i, (x,y) in enumerate(train_loader):\n",
    "            optimizer.zero_grad()\n",
    "            z = model(x.view(-1,28*28))\n",
    "            loss = criterion(z,y)\n",
    "            loss.backward()\n",
    "            optimizer.step()\n",
    "            # Loss for every iteration \n",
    "            useful_stuff['training_loss'].append(loss.data.item())\n",
    "        correct = 0\n",
    "        for x,y in validation_loader:\n",
    "            # Validation \n",
    "            z = model(x.view(-1,28*28))\n",
    "            _, label = torch.max(z,1)\n",
    "            correct += (label ==y).sum().item()\n",
    "        accuracy = 100 * (correct /len(validation_dataset))\n",
    "        useful_stuff['validation_accuracy'].append(accuracy)\n",
    "    return useful_sfuff\n",
    "    "
   ]
  },
  {
   "cell_type": "code",
   "execution_count": 39,
   "id": "2c310212-cf08-4b2e-bc7f-d3015dda2b2a",
   "metadata": {},
   "outputs": [],
   "source": [
    "# Make the data \n",
    "train_dataset = dsets.MNIST(root='./data', train = True, download=True,transform = transforms.ToTensor())"
   ]
  },
  {
   "cell_type": "code",
   "execution_count": 32,
   "id": "22841b0d-a919-4688-b40c-183da0edaf5f",
   "metadata": {},
   "outputs": [],
   "source": [
    "# Create validation dataset\n",
    "validation_dataset= dsets.MNIST(root='./data', download=True,transform = transforms.ToTensor())"
   ]
  },
  {
   "cell_type": "code",
   "execution_count": 33,
   "id": "373174e0-80c9-4ef8-92a5-b7d34e5c5314",
   "metadata": {},
   "outputs": [],
   "source": [
    "# Create criterion function \n",
    "criterion = nn.CrossEntropyLoss()"
   ]
  },
  {
   "cell_type": "code",
   "execution_count": 34,
   "id": "2bf6942c-2f2c-43fe-bc37-cc9ea8d9c0bf",
   "metadata": {},
   "outputs": [],
   "source": [
    "# Create data loader for both dataset \n",
    "train_loader=  torch.utils.data.DataLoader(dataset=train_dataset, batch_size=2000, shuffle=True)\n",
    "validation_loader= torch.utils.data.DataLoader(dataset=validation_dataset, batch_size = 2000, shuffle=True)"
   ]
  },
  {
   "cell_type": "code",
   "execution_count": 40,
   "id": "b212f1e2-ddd1-4635-9ba7-124b93f429b0",
   "metadata": {},
   "outputs": [],
   "source": [
    "# Define the neural network, optimizer and train the model \n",
    "\n",
    "# Create model with 100 neurons \n",
    "input_dim = 28*28 \n",
    "hidden_dim = 100\n",
    "output_dim = 10\n",
    "\n",
    "model = Net(input_dim, hidden_dim, output_dim)"
   ]
  },
  {
   "cell_type": "code",
   "execution_count": 41,
   "id": "23405375-9436-4a4f-87a6-93d625439e55",
   "metadata": {},
   "outputs": [
    {
     "name": "stdout",
     "output_type": "stream",
     "text": [
      "The following are the parameters for layer 1\n",
      "The size of weight: torch.Size([100, 784])\n",
      "The size of bias: torch.Size([100])\n",
      "The following are the parameters for layer 2\n",
      "The size of weight: torch.Size([10, 100])\n",
      "The size of bias: torch.Size([10])\n"
     ]
    }
   ],
   "source": [
    "# Print the model parameters \n",
    "print_model_parameters(model)\n",
    "\n",
    "# Set the learning rate and optimizer \n",
    "learning_rate= 0.01\n",
    "optimizer = torch.optim.SGD(model.parameters(), lr=learning_rate)"
   ]
  },
  {
   "cell_type": "code",
   "execution_count": null,
   "id": "99c80ed8-e4c1-4b7f-9295-9b03cce38bb7",
   "metadata": {},
   "outputs": [],
   "source": [
    "# Train the model \n",
    "training_results = train(model, criterion, train_loader, validation_loader, optimizer, epochs =30 )"
   ]
  },
  {
   "cell_type": "code",
   "execution_count": null,
   "id": "ba694b28-f4a2-42ed-8c3b-635dcb452d0c",
   "metadata": {},
   "outputs": [],
   "source": [
    "# Analyze the results \n",
    "\n",
    "# plot accuracy and loss \n",
    "plot_accuracy_loss(training_results)\n",
    "\n",
    "# Plot the first five misclassified samples \n",
    "\n",
    "count=0\n",
    "for x,y in validation_dataset:\n",
    "    z = model(x.reshape(-1, 28*28))\n",
    "    _, yhat = torch.max(z,1)\n",
    "    if yhat != y:\n",
    "        show_data(x)\n",
    "        count += 1\n",
    "    if count >= 5:\n",
    "        break"
   ]
  }
 ],
 "metadata": {
  "kernelspec": {
   "display_name": "Python 3 (ipykernel)",
   "language": "python",
   "name": "python3"
  },
  "language_info": {
   "codemirror_mode": {
    "name": "ipython",
    "version": 3
   },
   "file_extension": ".py",
   "mimetype": "text/x-python",
   "name": "python",
   "nbconvert_exporter": "python",
   "pygments_lexer": "ipython3",
   "version": "3.12.7"
  }
 },
 "nbformat": 4,
 "nbformat_minor": 5
}
