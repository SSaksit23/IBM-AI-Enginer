{
 "cells": [
  {
   "cell_type": "code",
   "execution_count": 24,
   "id": "a9bd5635-0dbe-49ee-90c2-3ae4c2367ad6",
   "metadata": {},
   "outputs": [
    {
     "data": {
      "text/plain": [
       "<torch._C.Generator at 0x229c71dc290>"
      ]
     },
     "execution_count": 24,
     "metadata": {},
     "output_type": "execute_result"
    }
   ],
   "source": [
    "# Import the libraries we need to use in this lab\n",
    "\n",
    "# Using the following line code to install the torchvision library\n",
    "# !mamba install -y torchvision\n",
    "\n",
    "import torch \n",
    "import torch.nn as nn\n",
    "import torchvision.transforms as transforms\n",
    "import torchvision.datasets as dsets\n",
    "import matplotlib.pylab as plt\n",
    "import numpy as np\n",
    "\n",
    "torch.manual_seed(0)"
   ]
  },
  {
   "cell_type": "code",
   "execution_count": 25,
   "id": "7becbce9-4aef-4da4-95eb-80acd63d8cd3",
   "metadata": {},
   "outputs": [],
   "source": [
    "# Create Xavier initialization neural network \n",
    "\n",
    "class Net_Xavier(nn.Module):\n",
    "    # Constructor\n",
    "    def __init__(self, Layers):\n",
    "        super(Net_Xavier, self).__init__()\n",
    "        self.hidden = nn.ModuleList()\n",
    "\n",
    "        for input_size, output_size in zip(Layers, Layers[1:]):\n",
    "            linear = nn.Linear(input_size, output_size)\n",
    "            torch.nn.init.xavier_uniform_(linear.weight)\n",
    "            self.hidden.append(linear)\n",
    "\n",
    "    # Predictor \n",
    "    def forward(self, x):\n",
    "        L = len(self.hidden)\n",
    "        for (l, linear_transform) in zip(range(L), self.hidden):\n",
    "            if l < L -1:\n",
    "                x = torch.tanh(linear_transform(z))\n",
    "            else:\n",
    "                x = linear_transform(x)\n",
    "        return x"
   ]
  },
  {
   "cell_type": "code",
   "execution_count": 26,
   "id": "d77ed0ff-043c-48dc-ab52-84b249b61866",
   "metadata": {},
   "outputs": [],
   "source": [
    "# Define neural network with uniform initialization \n",
    "\n",
    "class Net_Uniform(nn.Module):\n",
    "    # Constructor \n",
    "    def __init__(self, Layers):\n",
    "        super(Net_Uniform, self).__init__()\n",
    "        self.hidden = nn.ModuleList()\n",
    "\n",
    "        for input_size, output_size in zip(Layers, Layers[:]):\n",
    "            linear = nn.Linear(input_size, output_size)\n",
    "            linear.weight.data.uniform(0,1)\n",
    "            self.hidden.append(linear)\n",
    "\n",
    "    # Predictor \n",
    "    def forward(self, x):\n",
    "        L = len(self.hidden)\n",
    "        for (l, linear_transform) in zip(range(L), self.hidden):\n",
    "            if l < L -1 :\n",
    "                x = torch.tanh(linear_transform(x))\n",
    "            else:\n",
    "                x = linear_transform(x)\n",
    "        return x "
   ]
  },
  {
   "cell_type": "code",
   "execution_count": 27,
   "id": "d10a2321-8243-4551-8096-5e8be1438719",
   "metadata": {},
   "outputs": [],
   "source": [
    "# Define neural network with default initialization \n",
    "\n",
    "class Net(nn.Module):\n",
    "    # Constructor \n",
    "    def __init__(self, Layers):\n",
    "        super(Net, self).__init__()\n",
    "        self.hidden = nn.ModuleList()\n",
    "\n",
    "        for input_size, output_size in zip(Layers, Layers[:]):\n",
    "            linear = nn.Linear(input_size, output_size)\n",
    "            linear.weight.uniform_(0,1)\n",
    "            self.hidden.append(linear)\n",
    "\n",
    "    # Predictor \n",
    "    def forward(self, x):\n",
    "        L = len(self.hidden)\n",
    "        for (l, linear_transform) in zip(range(L), self.hidden):\n",
    "            if l < L -1 :\n",
    "                x = torch.tanh(linear_transform(x))\n",
    "            else:\n",
    "                x = linear_transform(x)\n",
    "        return x "
   ]
  },
  {
   "cell_type": "code",
   "execution_count": 28,
   "id": "31a70ed5-79d5-404f-9537-084f3f151d8e",
   "metadata": {},
   "outputs": [],
   "source": [
    "# Define the train model \n",
    "\n",
    "def train(model, criterion, train_loader, validation_loader, optimizer, epochs=100):\n",
    "    i = 0\n",
    "    loss_accuracy = {'training_loss':[], 'validation_accuracy':[]}\n",
    "\n",
    "    for epoch in range(epochs):\n",
    "        for i,(x,y) in enumerate(train_loader):\n",
    "            optimizer.zero_grad()\n",
    "            z = model(x.view(-1,28*28))\n",
    "            loss = criterion(z,y)\n",
    "            loss.backward()\n",
    "            optimizer.step()\n",
    "            loss_accuracy['training_loss'].append(loss.data.item())\n",
    "\n",
    "        correct = 0\n",
    "        for x,y in validation_loader:\n",
    "            yhat = model(x.view(-1,28*28))\n",
    "            _,label = torch.max(yhat, 1)\n",
    "            correct += (label ==y).sum().item()\n",
    "        accuracy = 100 * (correct/len(validation_dataset))\n",
    "        loss_accuracy['validation_accuracy'].append(accuracy)\n",
    "\n",
    "    return loss_accuracy"
   ]
  },
  {
   "cell_type": "code",
   "execution_count": 29,
   "id": "205d85de-ec28-4342-841c-d6a9f052c5c3",
   "metadata": {},
   "outputs": [],
   "source": [
    "# Create the train data \n",
    "train_dataset = dsets.MNIST(root='./data', train=True, download=True, transform=transforms.ToTensor())"
   ]
  },
  {
   "cell_type": "code",
   "execution_count": 30,
   "id": "15320bfc-87e2-4130-92d2-1cc0fa87d5e4",
   "metadata": {},
   "outputs": [],
   "source": [
    "# Create the validation data \n",
    "validation_dataset = dsets.MNIST(root='./data', download=True, transform=transforms.ToTensor())"
   ]
  },
  {
   "cell_type": "code",
   "execution_count": 31,
   "id": "dcd34c5f-52ec-4e3b-9feb-ee48a8c8b4d7",
   "metadata": {},
   "outputs": [],
   "source": [
    "# CReate loader for train data \n",
    "train_loader = torch.utils.data.DataLoader(dataset=train_dataset, batch_size=2000, shuffle=True)\n",
    "\n",
    "# CReate loader foralidation data \n",
    "validation_loader = torch.utils.data.DataLoader(dataset=validation_dataset, batch_size=2000, shuffle=True)"
   ]
  },
  {
   "cell_type": "code",
   "execution_count": 32,
   "id": "5d2a0299-9b6d-4db8-a5e6-4b7e468ba3a7",
   "metadata": {},
   "outputs": [],
   "source": [
    "# Define parameter, criterion and oprimzier \n",
    "criterion = nn.CrossEntropyLoss()\n",
    "\n",
    "# Set the parameter \n",
    "input_dim = 28*28\n",
    "output_dim = 10\n",
    "layers = [input_dim, 100,10,100,10,100, output_dim]\n",
    "epochs = 15"
   ]
  },
  {
   "cell_type": "code",
   "execution_count": 33,
   "id": "b10f4d60-3a02-4a31-9630-78b10ab71b67",
   "metadata": {},
   "outputs": [
    {
     "ename": "RuntimeError",
     "evalue": "a leaf Variable that requires grad is being used in an in-place operation.",
     "output_type": "error",
     "traceback": [
      "\u001b[1;31m---------------------------------------------------------------------------\u001b[0m",
      "\u001b[1;31mRuntimeError\u001b[0m                              Traceback (most recent call last)",
      "Cell \u001b[1;32mIn[33], line 3\u001b[0m\n\u001b[0;32m      1\u001b[0m \u001b[38;5;66;03m# Test the initialization \u001b[39;00m\n\u001b[1;32m----> 3\u001b[0m model \u001b[38;5;241m=\u001b[39m Net(layers)\n\u001b[0;32m      4\u001b[0m learning_rate \u001b[38;5;241m=\u001b[39m \u001b[38;5;241m0.1\u001b[39m \n\u001b[0;32m      5\u001b[0m optimizer\u001b[38;5;241m=\u001b[39m torch\u001b[38;5;241m.\u001b[39moptim\u001b[38;5;241m.\u001b[39mSGD(model\u001b[38;5;241m.\u001b[39mparameters(), lr\u001b[38;5;241m=\u001b[39mlearning_rate)\n",
      "Cell \u001b[1;32mIn[27], line 11\u001b[0m, in \u001b[0;36mNet.__init__\u001b[1;34m(self, Layers)\u001b[0m\n\u001b[0;32m      9\u001b[0m \u001b[38;5;28;01mfor\u001b[39;00m input_size, output_size \u001b[38;5;129;01min\u001b[39;00m \u001b[38;5;28mzip\u001b[39m(Layers, Layers[:]):\n\u001b[0;32m     10\u001b[0m     linear \u001b[38;5;241m=\u001b[39m nn\u001b[38;5;241m.\u001b[39mLinear(input_size, output_size)\n\u001b[1;32m---> 11\u001b[0m     linear\u001b[38;5;241m.\u001b[39mweight\u001b[38;5;241m.\u001b[39muniform_(\u001b[38;5;241m0\u001b[39m,\u001b[38;5;241m1\u001b[39m)\n\u001b[0;32m     12\u001b[0m     \u001b[38;5;28mself\u001b[39m\u001b[38;5;241m.\u001b[39mhidden\u001b[38;5;241m.\u001b[39mappend(linear)\n",
      "\u001b[1;31mRuntimeError\u001b[0m: a leaf Variable that requires grad is being used in an in-place operation."
     ]
    }
   ],
   "source": [
    "# Test the initialization \n",
    "\n",
    "model = Net(layers)\n",
    "learning_rate = 0.1 \n",
    "optimizer= torch.optim.SGD(model.parameters(), lr=learning_rate)\n",
    "training_results = train(model, criterion, train_loader, validation_loader, optimizer, epochs=epoch)"
   ]
  },
  {
   "cell_type": "code",
   "execution_count": null,
   "id": "97acf9c0-70ee-4bf2-bfe9-ae17545a70a8",
   "metadata": {},
   "outputs": [],
   "source": [
    "# Train the model with Uniform initialization\n",
    "\n",
    "model_Uniform = Net_Uniform(layers)\n",
    "optimizer = torch.optim.SGD(model_Uniform.parameters(), lr=learning_rate)\n",
    "training_results_Uniform = train(model_Uniform, criterion, train_loader, validation_loader, optimizer, epochs=epochs)"
   ]
  },
  {
   "cell_type": "code",
   "execution_count": null,
   "id": "086125e8-e72c-4960-acfa-108814c443b4",
   "metadata": {},
   "outputs": [],
   "source": [
    "# Plot the loss\n",
    "\n",
    "plt.plot(training_results_Xavier['training_loss'], label='Xavier')\n",
    "plt.plot(training_results['training_loss'], label='Default')\n",
    "plt.plot(training_results_Uniform['training_loss'], label='Uniform')\n",
    "plt.ylabel('loss')\n",
    "plt.xlabel('iteration ')  \n",
    "plt.title('training loss iterations')\n",
    "plt.legend()\n",
    "\n"
   ]
  },
  {
   "cell_type": "code",
   "execution_count": null,
   "id": "b623ffaa-e06f-49dc-99e8-f2ec92cea6bb",
   "metadata": {},
   "outputs": [],
   "source": [
    "# Plot the accuracy\n",
    "\n",
    "plt.plot(training_results_Xavier['validation_accuracy'], label='Xavier')\n",
    "plt.plot(training_results['validation_accuracy'], label='Default')\n",
    "plt.plot(training_results_Uniform['validation_accuracy'], label='Uniform') \n",
    "plt.ylabel('validation accuracy')\n",
    "plt.xlabel('epochs')   \n",
    "plt.legend()"
   ]
  }
 ],
 "metadata": {
  "kernelspec": {
   "display_name": "Python 3 (ipykernel)",
   "language": "python",
   "name": "python3"
  },
  "language_info": {
   "codemirror_mode": {
    "name": "ipython",
    "version": 3
   },
   "file_extension": ".py",
   "mimetype": "text/x-python",
   "name": "python",
   "nbconvert_exporter": "python",
   "pygments_lexer": "ipython3",
   "version": "3.12.7"
  }
 },
 "nbformat": 4,
 "nbformat_minor": 5
}
