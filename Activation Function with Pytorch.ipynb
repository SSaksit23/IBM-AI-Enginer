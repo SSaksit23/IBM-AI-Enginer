{
 "cells": [
  {
   "cell_type": "code",
   "execution_count": 4,
   "id": "9d823571-cd15-4bbd-9af0-cbdadb603679",
   "metadata": {},
   "outputs": [
    {
     "data": {
      "text/plain": [
       "<torch._C.Generator at 0x1f788f254f0>"
      ]
     },
     "execution_count": 4,
     "metadata": {},
     "output_type": "execute_result"
    }
   ],
   "source": [
    "# Import the library \n",
    "import torch.nn as nn \n",
    "import torch \n",
    "import numpy as np\n",
    "import matplotlib.pyplot as plt \n",
    "torch.manual_seed(2)"
   ]
  },
  {
   "cell_type": "code",
   "execution_count": 5,
   "id": "e5f0f14e-3c51-472e-a2e7-ea333b6b8bbe",
   "metadata": {},
   "outputs": [],
   "source": [
    "# Create logistic function \n",
    "\n",
    "# Create Tensor \n",
    "z = torch.arange(-10,10,0.1).view(-1,1)\n",
    "\n",
    "# Create sigmoid object \n",
    "sig = nn.Sigmoid()\n"
   ]
  },
  {
   "cell_type": "code",
   "execution_count": 6,
   "id": "65bcc9a7-f7ee-4380-a899-4bf41f4436e7",
   "metadata": {},
   "outputs": [],
   "source": [
    "# Make a prediction of sigmoid function \n",
    "yhat = sig(z)"
   ]
  },
  {
   "cell_type": "code",
   "execution_count": null,
   "id": "330047fe-5145-479a-91cb-ff13def50218",
   "metadata": {},
   "outputs": [],
   "source": [
    "# Plot the result \n",
    "\n",
    "plt.plot(z.detach().numpy(), yhat.detach().numpy())\n",
    "plt.xlabel('z')\n",
    "plt.ylabel('yhat')\n",
    "\n",
    "plt.show()"
   ]
  },
  {
   "cell_type": "code",
   "execution_count": null,
   "id": "9cf722fa-7ea1-49bf-b964-321b9c3b57c1",
   "metadata": {},
   "outputs": [],
   "source": [
    "# Creata tanh object \n",
    "TANH = nn.Tanh "
   ]
  },
  {
   "cell_type": "code",
   "execution_count": null,
   "id": "0157b135-4e53-41e0-ba94-8caf047961c0",
   "metadata": {},
   "outputs": [],
   "source": [
    "yhat = TANH(z)\n",
    "plt.plot(z.numpy(), yhat.numpy())"
   ]
  },
  {
   "cell_type": "code",
   "execution_count": null,
   "id": "60995dab-fad9-4f08-96c1-b209e51112d9",
   "metadata": {},
   "outputs": [],
   "source": [
    "# Make prediction with buildup tanh object \n",
    "yhat = torch.tanh(z)\n",
    "plt.plot(z.numpy(), yhat.numpy())\n",
    "plt.show()"
   ]
  },
  {
   "cell_type": "code",
   "execution_count": null,
   "id": "bead3b6a-7bcb-46d9-a735-e934bd3759c9",
   "metadata": {},
   "outputs": [],
   "source": [
    "# Comparing activation function \n",
    "\n",
    "x = torch.arange(-2,2,0.1).view(-1,1)\n",
    "plt.plot(x.numpy(), torch.relu(x).numpy(), label='reliu')\n",
    "plt.plot(x.numpy(), torch.sigmoid(x).numpy(), label='sigmoid')\n",
    "plt.plot(x.numpy(), torch.tanh(x).numpy(), label='tanh')\n",
    "\n",
    "plt.legend()"
   ]
  }
 ],
 "metadata": {
  "kernelspec": {
   "display_name": "Python 3 (ipykernel)",
   "language": "python",
   "name": "python3"
  },
  "language_info": {
   "codemirror_mode": {
    "name": "ipython",
    "version": 3
   },
   "file_extension": ".py",
   "mimetype": "text/x-python",
   "name": "python",
   "nbconvert_exporter": "python",
   "pygments_lexer": "ipython3",
   "version": "3.12.7"
  }
 },
 "nbformat": 4,
 "nbformat_minor": 5
}
