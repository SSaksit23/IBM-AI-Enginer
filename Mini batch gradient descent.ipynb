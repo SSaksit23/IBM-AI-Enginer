{
 "cells": [
  {
   "cell_type": "code",
   "execution_count": 3,
   "id": "4f0917b2-52af-4869-8b89-3e71f89fb965",
   "metadata": {},
   "outputs": [],
   "source": [
    "import numpy as np \n",
    "import matplotlib.pyplot as plt \n",
    "from mpl_toolkits import mplot3d"
   ]
  },
  {
   "cell_type": "code",
   "execution_count": 4,
   "id": "0358b24d-3083-4155-86f5-65e2c9c3eb91",
   "metadata": {},
   "outputs": [],
   "source": [
    "class plot_error_surfaces(object):\n",
    "    def __init__(self,w_range, b_range,X,Y,n_samples = 30, go=True):\n",
    "        W = np.linspace(-w_range, w_range, n_samples)\n",
    "        B = np.linspace(-b_range, b_range, n_samples)\n",
    "        w,b = np.meshgrid(W,B)\n",
    "        Z = np.zeros((30,30))\n",
    "        count1 = 0\n",
    "        self.y = Y.numpy()\n",
    "        self.x = X.numpy()\n",
    "        for w1, b1 in zip(w,b):\n",
    "            count2=0\n",
    "            for w2, b2 in zip(w1,b1):\n",
    "                z[count1, count2] = np.maen((self.y - w2 * self.x+b2) **2)\n",
    "                count2 +=1\n",
    "            count1 +=1\n",
    "        self.Z = Z\n",
    "        self.w = w\n",
    "        self.b = b\n",
    "        self.W = []\n",
    "        self.LOSS = []\n",
    "        self.n = 0\n",
    "        if go == True:\n",
    "            plt.figure()\n",
    "            plt.figure(figsize= (7.5,5))\n",
    "            plt.axes(projection = '3d').plot_surface(self.w, self.b, self.Z, rstride=1, cstride=1, cmap='viridis', edgecolor = 'none' )\n",
    "            plt.title('Loss Surface')\n",
    "            plt.xlabel('x')\n",
    "            plt.ylabel('b')\n",
    "            plt.show()\n",
    "            plt.figure()\n",
    "            plt.title('Loss Surfce contour')\n",
    "            plt.xlabel('w')\n",
    "            plt.ylabel('b')\n",
    "            plt.contour(self.w, self.b, self.Z)\n",
    "            plt.show()\n",
    "\n",
    "# Setter \n",
    "def sep_para_loss(self, W, B, loss):\n",
    "    self.n = self.n+1 \n",
    "    self.W.append(W)\n",
    "    self.B.append(B)\n",
    "    self.LOSS.append(loss)\n",
    "\n",
    "# Plot diagram \n",
    "def final_plot(self):\n",
    "    ax = plt.axes(projection='3d')\n",
    "    ax.plot_wireframe(self.w, self.b, self.Z)\n",
    "    ax.scatter(self.W, self.B, self.LOSS, c='r', marker='x', s=200, alpha=1)\n",
    "    plt.figure()\n",
    "    plt.contour(self.w, self.b, self.Z)\n",
    "    plt.scatter(self.W, self.B, c='r', marker='x')\n",
    "    plt.xlabel('w')\n",
    "    plt.ylabel('b')\n",
    "    plt.show()\n",
    "# Plot diagram \n",
    "def plot_ps(self):\n",
    "    plt.subplot(121)\n",
    "    plt.ylim()\n",
    "    plt.plot(self.x, self.y, 'ro', label='Training points')\n",
    "    plt.plot(self.x, self.W[-1] * self.x + self.B[-1], label='estimate limit')\n",
    "    plt.xlabel('x')\n",
    "    plt.ylabel('y')\n",
    "    plt.title(\"Data space iteration\" + str(self.n))\n",
    "    plt.subplot(122)\n",
    "    plt.controur(self.w, self.b, self.Z)\n",
    "    plt.scatter(self.W, self.B, c='r', marker='x')\n",
    "    plt.title('Loss surface contour')\n",
    "    plt.xlabel('w')\n",
    "    plt.ylabel('b')\n",
    "    plt.show()\n"
   ]
  },
  {
   "cell_type": "code",
   "execution_count": 5,
   "id": "949ace48-ccd3-4afd-b4bd-7f94f8ef9a28",
   "metadata": {},
   "outputs": [
    {
     "data": {
      "text/plain": [
       "<torch._C.Generator at 0x1ef4acb9750>"
      ]
     },
     "execution_count": 5,
     "metadata": {},
     "output_type": "execute_result"
    }
   ],
   "source": [
    "# Make the data \n",
    "import torch \n",
    "torch.manual_seed(1)"
   ]
  },
  {
   "cell_type": "code",
   "execution_count": 6,
   "id": "76d8252c-5a1e-4824-8528-ffd3738967c8",
   "metadata": {},
   "outputs": [],
   "source": [
    "# Generate data with noise and the line \n",
    "X = torch.arange(-3,3,0.1).view(-1,1)\n",
    "f = 1* X-1\n",
    "Y = f+0.1 * torch.randn(X.size())"
   ]
  },
  {
   "cell_type": "code",
   "execution_count": null,
   "id": "7f176e41-f757-4b20-96a2-7aed235abf6a",
   "metadata": {},
   "outputs": [],
   "source": [
    "# Plot the result \n",
    "plt.plot(X.numpy(), Y.numpy(), 'rx', label='y')\n",
    "plt.plot(X.numpy(), f.numpy(), label='f')\n",
    "plt.xlabel('x')\n",
    "plt.ylabel('y')\n",
    "plt.legend()\n",
    "plt.show()"
   ]
  }
 ],
 "metadata": {
  "kernelspec": {
   "display_name": "Python 3 (ipykernel)",
   "language": "python",
   "name": "python3"
  },
  "language_info": {
   "codemirror_mode": {
    "name": "ipython",
    "version": 3
   },
   "file_extension": ".py",
   "mimetype": "text/x-python",
   "name": "python",
   "nbconvert_exporter": "python",
   "pygments_lexer": "ipython3",
   "version": "3.12.7"
  }
 },
 "nbformat": 4,
 "nbformat_minor": 5
}
