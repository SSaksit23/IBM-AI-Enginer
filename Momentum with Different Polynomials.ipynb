{
 "cells": [
  {
   "cell_type": "code",
   "execution_count": 1,
   "id": "5ef5e430-fda1-4d28-92f0-43d1459c474a",
   "metadata": {},
   "outputs": [
    {
     "data": {
      "text/plain": [
       "<torch._C.Generator at 0x1d45d084290>"
      ]
     },
     "execution_count": 1,
     "metadata": {},
     "output_type": "execute_result"
    }
   ],
   "source": [
    "# These are the libraries that will be used for this lab.\n",
    "\n",
    "import torch \n",
    "import torch.nn as nn\n",
    "import matplotlib.pylab as plt\n",
    "import numpy as np\n",
    "\n",
    "torch.manual_seed(0)"
   ]
  },
  {
   "cell_type": "code",
   "execution_count": 2,
   "id": "4d8161bd-879a-4bc5-a26f-c565f58c74aa",
   "metadata": {},
   "outputs": [],
   "source": [
    "# Create cubic function and the parameters \n",
    "\n",
    "def plot_cubic(w, optimizer):\n",
    "    LOSS=[]\n",
    "    # Set parameter value \n",
    "    W = torch.arange(-4,4,0.1)\n",
    "    # Set the loss fucntion \n",
    "    for w.state_dict()['linear.weight'][0] in W:\n",
    "        LOSS.append(cubic(w(torch.tensor([[1.0]]))).item())\n",
    "    w.state_dict()['linear.weight'][0] = 4.0\n",
    "    n_epochs = 10\n",
    "    parameter = []\n",
    "    loss_list = []\n",
    "\n",
    "    # n_epochs \n",
    "    # use Torch custom module to implement polynomial function \n",
    "    for i in range(n_epochs):\n",
    "        optimizer.zero_grad()\n",
    "        loss = cubic(w(torch.tensor([[1.0]])))\n",
    "        loss_list.append(loss)\n",
    "        parameter.append(w.state_dict()['linear.weight'][0].detach().data.item())\n",
    "        loss.backward()\n",
    "        optimizer.step()\n",
    "    plt.plot(parameter, [loss.detach().numpy().flatten()  for loss in loss_list], 'ro', label='parameter_values')\n",
    "    \n",
    "    plt.plot(W.numpy(), LOSS, label='objective function')\n",
    "    plt.xlabel('w')\n",
    "    plt.ylabel('l(w)')\n",
    "    plt.legend()\n"
   ]
  },
  {
   "cell_type": "code",
   "execution_count": 3,
   "id": "6128c7e4-26c5-4111-958b-09a765646813",
   "metadata": {},
   "outputs": [],
   "source": [
    "# Pot the forth order function and the parameters values \n",
    "def plot_forth_order(w, optimzier, std=0, color='r', paramlabel='parameter valus', objfun=True):\n",
    "    W = torch.arange(-4,6,0.1)\n",
    "    LOSS = []\n",
    "    for w.state_dict()['linear_weight'][0] in W:\n",
    "        LOSS.append(forth_order(w(torch.tensor([[0.1]]))).item())\n",
    "    w.state_dict()['linear_weight'][0] = 6 \n",
    "    n_epochs = 100\n",
    "    parameter = []\n",
    "    loss_list = []\n",
    "\n",
    "    # n_epochs \n",
    "    for n in range(n_epochs):\n",
    "        optimizer.zero_grad()\n",
    "        loss = forch_order(w(torch.tensor([[0.1]]))) + std * torch.randn(1,1)\n",
    "        loss_list.append(loss)\n",
    "        parameter.append(w.state_dict()['linear_weight'][0].detach().data.item())\n",
    "        loss.backward()\n",
    "        optimizer.step()\n",
    "\n",
    "    # Plotting \n",
    "    if objfun:\n",
    "        plt.plot(W.numpy(), LOSS, label='objective function')\n",
    "\n",
    "    plt.plot(parameter, [loss.detach().numpy().flatten() for loss in loss_list], 'ro', label ='paramlabel', color=color)\n",
    "    plt.xlabel('w')\n",
    "    plt.ylabel('l(w)')\n",
    "    plt.legend()"
   ]
  },
  {
   "cell_type": "code",
   "execution_count": 4,
   "id": "5752268a-f323-4727-ab10-440c2ebffa4e",
   "metadata": {},
   "outputs": [],
   "source": [
    "# Create linear model \n",
    "class one_param(nn.Module):\n",
    "    # constructor \n",
    "    def __init__(self, input_size, output_size):\n",
    "        super(one_param, self).__init__()\n",
    "        self.linear = nn.Linear(input_size, output_size, bias=False)\n",
    "    # Predictor \n",
    "    def forward(self, x):\n",
    "        yhat = self.linear(x)\n",
    "        return yhat"
   ]
  },
  {
   "cell_type": "code",
   "execution_count": 5,
   "id": "4d706148-84b1-4c8e-8d81-19c2b09e5341",
   "metadata": {},
   "outputs": [],
   "source": [
    "# Create saddle point \n",
    "\n",
    "# Define function to output a cubic \n",
    "def cubic(yhat):\n",
    "    out = yhat **3\n",
    "    return out "
   ]
  },
  {
   "cell_type": "code",
   "execution_count": 6,
   "id": "63de60ab-ff73-4e26-a44e-f30e4e998d79",
   "metadata": {},
   "outputs": [],
   "source": [
    "# Create one param object \n",
    "w = one_param(1,1)"
   ]
  },
  {
   "cell_type": "code",
   "execution_count": 7,
   "id": "8cf06253-f248-48ee-ad04-32a00c61f92e",
   "metadata": {},
   "outputs": [],
   "source": [
    "# Create optimizer without momentum \n",
    "optimizer = torch.optim.SGD(w.parameters(), lr=0.01, momentum=0.9)"
   ]
  },
  {
   "cell_type": "code",
   "execution_count": null,
   "id": "62c4d755-436b-43ff-9df9-0511c1683e87",
   "metadata": {},
   "outputs": [],
   "source": [
    "# Plot the model \n",
    "plot_cubic(w, optimizer)"
   ]
  },
  {
   "cell_type": "code",
   "execution_count": 2,
   "id": "778a2ee3-0c7b-4045-87d8-e352e532abe2",
   "metadata": {},
   "outputs": [],
   "source": [
    "# Local minima\n",
    "\n",
    "def forth_order(yhat):\n",
    "    out = torch.mean(2* (yhat**4) - 9 * (yhat**3) - 21*(yhat**2) + 88*yhat+48)\n",
    "    return out"
   ]
  },
  {
   "cell_type": "code",
   "execution_count": 4,
   "id": "7ea50721-2da2-4546-b9c9-907941a175e6",
   "metadata": {},
   "outputs": [
    {
     "ename": "NameError",
     "evalue": "name 'torch' is not defined",
     "output_type": "error",
     "traceback": [
      "\u001b[1;31m---------------------------------------------------------------------------\u001b[0m",
      "\u001b[1;31mNameError\u001b[0m                                 Traceback (most recent call last)",
      "Cell \u001b[1;32mIn[4], line 2\u001b[0m\n\u001b[0;32m      1\u001b[0m \u001b[38;5;66;03m# Make prediction without momentum \u001b[39;00m\n\u001b[1;32m----> 2\u001b[0m optimizer \u001b[38;5;241m=\u001b[39m torch\u001b[38;5;241m.\u001b[39moptim\u001b[38;5;241m.\u001b[39mSGD(w\u001b[38;5;241m.\u001b[39mparameters(), lr\u001b[38;5;241m=\u001b[39m\u001b[38;5;241m0.001\u001b[39m)\n\u001b[0;32m      3\u001b[0m plot_forth_order(w, optimizer)\n",
      "\u001b[1;31mNameError\u001b[0m: name 'torch' is not defined"
     ]
    }
   ],
   "source": [
    "# Make prediction without momentum \n",
    "optimizer = torch.optim.SGD(w.parameters(), lr=0.001)\n",
    "plot_forth_order(w, optimizer)"
   ]
  },
  {
   "cell_type": "code",
   "execution_count": 5,
   "id": "c2093110-51f0-4d8a-b6d0-f605c87f10e3",
   "metadata": {},
   "outputs": [
    {
     "ename": "NameError",
     "evalue": "name 'torch' is not defined",
     "output_type": "error",
     "traceback": [
      "\u001b[1;31m---------------------------------------------------------------------------\u001b[0m",
      "\u001b[1;31mNameError\u001b[0m                                 Traceback (most recent call last)",
      "Cell \u001b[1;32mIn[5], line 2\u001b[0m\n\u001b[0;32m      1\u001b[0m \u001b[38;5;66;03m# Make prediction with momentum \u001b[39;00m\n\u001b[1;32m----> 2\u001b[0m optimizer \u001b[38;5;241m=\u001b[39m torch\u001b[38;5;241m.\u001b[39moptim\u001b[38;5;241m.\u001b[39mSGD(w\u001b[38;5;241m.\u001b[39mparameters(), lr\u001b[38;5;241m=\u001b[39m\u001b[38;5;241m0.001\u001b[39m, momentum\u001b[38;5;241m=\u001b[39m\u001b[38;5;241m0.9\u001b[39m)\n\u001b[0;32m      3\u001b[0m plot_forth_order(w, optimizer)\n",
      "\u001b[1;31mNameError\u001b[0m: name 'torch' is not defined"
     ]
    }
   ],
   "source": [
    "# Make prediction with momentum \n",
    "optimizer = torch.optim.SGD(w.parameters(), lr=0.001, momentum=0.9)\n",
    "plot_forth_order(w, optimizer)"
   ]
  },
  {
   "cell_type": "code",
   "execution_count": 6,
   "id": "0b7617dc-5844-4a30-b50c-032706a41f8d",
   "metadata": {},
   "outputs": [
    {
     "ename": "NameError",
     "evalue": "name 'torch' is not defined",
     "output_type": "error",
     "traceback": [
      "\u001b[1;31m---------------------------------------------------------------------------\u001b[0m",
      "\u001b[1;31mNameError\u001b[0m                                 Traceback (most recent call last)",
      "Cell \u001b[1;32mIn[6], line 3\u001b[0m\n\u001b[0;32m      1\u001b[0m \u001b[38;5;66;03m# Make prediction with momentum whene there is noise \u001b[39;00m\n\u001b[1;32m----> 3\u001b[0m optimizer \u001b[38;5;241m=\u001b[39m torch\u001b[38;5;241m.\u001b[39moptim\u001b[38;5;241m.\u001b[39mSGD(w\u001b[38;5;241m.\u001b[39mparameters(), lr\u001b[38;5;241m=\u001b[39m\u001b[38;5;241m0.001\u001b[39m,)\n\u001b[0;32m      4\u001b[0m plot_forth_order(w, optimizer, std\u001b[38;5;241m=\u001b[39m\u001b[38;5;241m10\u001b[39m)\n",
      "\u001b[1;31mNameError\u001b[0m: name 'torch' is not defined"
     ]
    }
   ],
   "source": [
    "# Make prediction with momentum whene there is noise \n",
    "\n",
    "optimizer = torch.optim.SGD(w.parameters(), lr=0.001,)\n",
    "plot_forth_order(w, optimizer, std=10)"
   ]
  },
  {
   "cell_type": "code",
   "execution_count": 7,
   "id": "f17891bf-8760-4969-b852-fcdca7b2c4d8",
   "metadata": {},
   "outputs": [
    {
     "ename": "NameError",
     "evalue": "name 'torch' is not defined",
     "output_type": "error",
     "traceback": [
      "\u001b[1;31m---------------------------------------------------------------------------\u001b[0m",
      "\u001b[1;31mNameError\u001b[0m                                 Traceback (most recent call last)",
      "Cell \u001b[1;32mIn[7], line 3\u001b[0m\n\u001b[0;32m      1\u001b[0m \u001b[38;5;66;03m# Make prediction with momentum whene there is noise \u001b[39;00m\n\u001b[1;32m----> 3\u001b[0m optimizer \u001b[38;5;241m=\u001b[39m torch\u001b[38;5;241m.\u001b[39moptim\u001b[38;5;241m.\u001b[39mSGD(w\u001b[38;5;241m.\u001b[39mparameters(), lr\u001b[38;5;241m=\u001b[39m\u001b[38;5;241m0.001\u001b[39m, momentum\u001b[38;5;241m=\u001b[39m\u001b[38;5;241m0.9\u001b[39m)\n\u001b[0;32m      4\u001b[0m plot_forth_order(w, optimizer, std\u001b[38;5;241m=\u001b[39m\u001b[38;5;241m10\u001b[39m)\n",
      "\u001b[1;31mNameError\u001b[0m: name 'torch' is not defined"
     ]
    }
   ],
   "source": [
    "# Make prediction with momentum whene there is noise \n",
    "\n",
    "optimizer = torch.optim.SGD(w.parameters(), lr=0.001, momentum=0.9)\n",
    "plot_forth_order(w, optimizer, std=10)"
   ]
  }
 ],
 "metadata": {
  "kernelspec": {
   "display_name": "Python 3 (ipykernel)",
   "language": "python",
   "name": "python3"
  },
  "language_info": {
   "codemirror_mode": {
    "name": "ipython",
    "version": 3
   },
   "file_extension": ".py",
   "mimetype": "text/x-python",
   "name": "python",
   "nbconvert_exporter": "python",
   "pygments_lexer": "ipython3",
   "version": "3.12.7"
  }
 },
 "nbformat": 4,
 "nbformat_minor": 5
}
