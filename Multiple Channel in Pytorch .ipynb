{
 "cells": [
  {
   "cell_type": "code",
   "execution_count": 13,
   "id": "cc86bcc1-297e-4b29-aca1-9d624106271d",
   "metadata": {},
   "outputs": [],
   "source": [
    "import torch \n",
    "import torch.nn as nn\n",
    "import matplotlib.pyplot as plt\n",
    "import numpy as np\n",
    "from scipy import ndimage, misc"
   ]
  },
  {
   "cell_type": "code",
   "execution_count": 14,
   "id": "6933995c-4d11-4f00-aaf0-71bc6f18462b",
   "metadata": {},
   "outputs": [],
   "source": [
    "# Create 3 channels with conv2d \n",
    "conv1 = nn.Conv2d(in_channels=1, out_channels=3, kernel_size=3)"
   ]
  },
  {
   "cell_type": "code",
   "execution_count": 15,
   "id": "1491d665-6557-4341-8ce4-28cfd543b895",
   "metadata": {},
   "outputs": [],
   "source": [
    "# Use tensor to assign value to each kernel \n",
    "Gx=torch.tensor([[1.0,0,-1.0],[2.0,0,-2.0],[1.0,0.0,-1.0]])\n",
    "Gy=torch.tensor([[1.0,2.00,1.0],[0.0,0.0,0.0],[-1.0,-2.0,-1.0]])\n",
    "\n",
    "conv1.state_dict()['weight'][0][0]=Gx\n",
    "conv1.state_dict()['weight'][1][0]=Gy\n",
    "conv1.state_dict()['weight'][2][0]=torch.ones(3,3)"
   ]
  },
  {
   "cell_type": "code",
   "execution_count": 16,
   "id": "c7d70b17-689d-48b9-8746-f4ca0e817769",
   "metadata": {},
   "outputs": [
    {
     "data": {
      "text/plain": [
       "tensor([0., 0., 0.])"
      ]
     },
     "execution_count": 16,
     "metadata": {},
     "output_type": "execute_result"
    }
   ],
   "source": [
    "# Assign bias to each kernel \n",
    "conv1.state_dict()['bias'][:]=torch.tensor([0.0,0.0,0.0])\n",
    "conv1.state_dict()['bias']"
   ]
  },
  {
   "cell_type": "code",
   "execution_count": 17,
   "id": "585793e4-3d8f-4aef-bbca-258cb5d9df59",
   "metadata": {},
   "outputs": [
    {
     "name": "stdout",
     "output_type": "stream",
     "text": [
      "tensor([[[ 1.,  0., -1.],\n",
      "         [ 2.,  0., -2.],\n",
      "         [ 1.,  0., -1.]]])\n",
      "tensor([[[ 1.,  2.,  1.],\n",
      "         [ 0.,  0.,  0.],\n",
      "         [-1., -2., -1.]]])\n",
      "tensor([[[1., 1., 1.],\n",
      "         [1., 1., 1.],\n",
      "         [1., 1., 1.]]])\n"
     ]
    }
   ],
   "source": [
    "# Print out each kernel  \n",
    "for x in conv1.state_dict()['weight']:\n",
    "    print(x)"
   ]
  },
  {
   "cell_type": "code",
   "execution_count": 18,
   "id": "3ed35300-8c8a-4d1e-8636-b771b9acc42c",
   "metadata": {},
   "outputs": [
    {
     "data": {
      "text/plain": [
       "tensor([[[[0., 0., 0., 0., 0.],\n",
       "          [0., 0., 0., 0., 0.],\n",
       "          [1., 1., 1., 1., 1.],\n",
       "          [0., 0., 0., 0., 0.],\n",
       "          [0., 0., 0., 0., 0.]]]])"
      ]
     },
     "execution_count": 18,
     "metadata": {},
     "output_type": "execute_result"
    }
   ],
   "source": [
    "# Create input image to represen the input x\n",
    "image=torch.zeros(1,1,5,5)\n",
    "image[0,0:,2]=1\n",
    "image"
   ]
  },
  {
   "cell_type": "code",
   "execution_count": null,
   "id": "9e089ddb-1ba9-4073-a440-dc02533abb21",
   "metadata": {},
   "outputs": [],
   "source": [
    "# Plot as an image\n",
    "plt.imshow(image[0,0,:,:].numpy(), interpolation='nearest', cmap=plt.cm.gray)\n",
    "plt.colorbar()\n",
    "plt.show()"
   ]
  },
  {
   "cell_type": "code",
   "execution_count": null,
   "id": "6dfeafb5-65b9-4922-8384-2a190b56a7a1",
   "metadata": {},
   "outputs": [],
   "source": [
    "# Perform convoluting using each channel \n",
    "out=conv1(image)"
   ]
  },
  {
   "cell_type": "code",
   "execution_count": null,
   "id": "75057c58-3925-4261-819d-cf7b70237d44",
   "metadata": {},
   "outputs": [],
   "source": [
    "# Check the output size \n",
    "out.shape"
   ]
  },
  {
   "cell_type": "code",
   "execution_count": null,
   "id": "c04cb586-d22a-4d4a-b971-7ed5403b2dd7",
   "metadata": {},
   "outputs": [],
   "source": [
    "# print out c each channel as tensor \n",
    "for channel,image in enumerate(out[0]):\n",
    "    plt.imshow(image.detach().numpy(), interpolation='nearest', cmap=plt.cm.gray)\n",
    "    print(image)\n",
    "    plt.title(\"channel {}\".format(channel))\n",
    "    plt.colorbar()\n",
    "    plt.show()"
   ]
  },
  {
   "cell_type": "code",
   "execution_count": null,
   "id": "7989011e-531d-4e72-9839-49d4c2cacf01",
   "metadata": {},
   "outputs": [],
   "source": [
    "# Assign different image to test the model \n",
    "image1=torch.zeros(1,1,5,5)\n",
    "image1[0,0,2,:]=1\n",
    "print(image1)\n",
    "plt.imshow(image1[0,0,:,:].detach().numpy(), interpolation='nearest', cmap=plt.cm.gray)\n",
    "plt.show()"
   ]
  },
  {
   "cell_type": "code",
   "execution_count": null,
   "id": "67dc59be-8212-4e12-bca1-7f870dc5ba03",
   "metadata": {},
   "outputs": [],
   "source": [
    "# Use the second and third channel to test the value \n",
    "out1=conv1(image1)\n",
    "for channel,image in enumerate(out1[0]):\n",
    "    plt.imshow(image.detach().numpy(), interpolation='nearest', cmap=plt.cm.gray)\n",
    "    print(image)\n",
    "    plt.title(\"channel {}\".format(channel))\n",
    "    plt.colorbar()\n",
    "    plt.show()"
   ]
  },
  {
   "cell_type": "code",
   "execution_count": null,
   "id": "7fa8218d-f67b-4648-80a7-e68f1c19b226",
   "metadata": {},
   "outputs": [],
   "source": [
    "# Recreate the input with two channels \n",
    "image2=torch.zeros(1,2,5,5)\n",
    "image2[0,0,2,:]=-2\n",
    "image2[0,1,2,:]=1\n",
    "image2"
   ]
  },
  {
   "cell_type": "code",
   "execution_count": null,
   "id": "b7bc98f6-bff2-4174-91ce-afab3cf37861",
   "metadata": {},
   "outputs": [],
   "source": [
    "# Plot output for each image\n",
    "for channel,image in enumerate(image2[0]):\n",
    "    plt.imshow(image.detach().numpy(), interpolation='nearest', cmap=plt.cm.gray)\n",
    "    print(image)\n",
    "    plt.title(\"channel {}\".format(channel))\n",
    "    plt.colorbar()\n",
    "    plt.show()"
   ]
  },
  {
   "cell_type": "code",
   "execution_count": null,
   "id": "2bbee7d2-0b4f-4eab-bef3-8d0d575173db",
   "metadata": {},
   "outputs": [],
   "source": [
    "# Create conv2d object with two imputs \n",
    "conv3 = nn.Conv2d(in_channels=2, out_channels=1,kernel_size=3)"
   ]
  },
  {
   "cell_type": "code",
   "execution_count": null,
   "id": "45328cf8-bedf-44a0-aaea-9a97f2dbac89",
   "metadata": {},
   "outputs": [],
   "source": [
    "# Assign kereel \n",
    "Gx1=torch.tensor([[0.0,0.0,0.0],[0,1.0,0],[0.0,0.0,0.0]])\n",
    "conv3.state_dict()['weight'][0][0]=1*Gx1\n",
    "conv3.state_dict()['weight'][0][1]=-2*Gx1\n",
    "conv3.state_dict()['bias'][:]=torch.tensor([0.0])\n",
    "conv3(image2)"
   ]
  },
  {
   "cell_type": "code",
   "execution_count": 1,
   "id": "2bcb029e-f8e9-4556-a1e9-76ecd7aa40c5",
   "metadata": {},
   "outputs": [
    {
     "ename": "NameError",
     "evalue": "name 'conv3' is not defined",
     "output_type": "error",
     "traceback": [
      "\u001b[1;31m---------------------------------------------------------------------------\u001b[0m",
      "\u001b[1;31mNameError\u001b[0m                                 Traceback (most recent call last)",
      "Cell \u001b[1;32mIn[1], line 1\u001b[0m\n\u001b[1;32m----> 1\u001b[0m conv3\u001b[38;5;241m.\u001b[39mstate_dict()[\u001b[38;5;124m'\u001b[39m\u001b[38;5;124mweight\u001b[39m\u001b[38;5;124m'\u001b[39m]\n\u001b[0;32m      2\u001b[0m conv3(image2)\n",
      "\u001b[1;31mNameError\u001b[0m: name 'conv3' is not defined"
     ]
    }
   ],
   "source": [
    "# Perform convolution \n",
    "conv3.state_dict()['weight']\n"
   ]
  },
  {
   "cell_type": "code",
   "execution_count": 3,
   "id": "d740c5a7-acc9-4edd-984b-d4ad559e46f1",
   "metadata": {},
   "outputs": [
    {
     "ename": "NameError",
     "evalue": "name 'nn' is not defined",
     "output_type": "error",
     "traceback": [
      "\u001b[1;31m---------------------------------------------------------------------------\u001b[0m",
      "\u001b[1;31mNameError\u001b[0m                                 Traceback (most recent call last)",
      "Cell \u001b[1;32mIn[3], line 2\u001b[0m\n\u001b[0;32m      1\u001b[0m \u001b[38;5;66;03m# Multiple input and output channel \u001b[39;00m\n\u001b[1;32m----> 2\u001b[0m conv4 \u001b[38;5;241m=\u001b[39m nn\u001b[38;5;241m.\u001b[39mConv2d(in_channels\u001b[38;5;241m=\u001b[39m\u001b[38;5;241m2\u001b[39m, out_channels\u001b[38;5;241m=\u001b[39m\u001b[38;5;241m3\u001b[39m,kernel_size\u001b[38;5;241m=\u001b[39m\u001b[38;5;241m3\u001b[39m)\n\u001b[0;32m      3\u001b[0m conv4\u001b[38;5;241m.\u001b[39mstate_dict()[\u001b[38;5;124m'\u001b[39m\u001b[38;5;124mweight\u001b[39m\u001b[38;5;124m'\u001b[39m][\u001b[38;5;241m0\u001b[39m][\u001b[38;5;241m0\u001b[39m]\u001b[38;5;241m=\u001b[39mtorch\u001b[38;5;241m.\u001b[39mtensor([[\u001b[38;5;241m0.0\u001b[39m,\u001b[38;5;241m0.0\u001b[39m,\u001b[38;5;241m0.0\u001b[39m],[\u001b[38;5;241m0\u001b[39m,\u001b[38;5;241m0.5\u001b[39m,\u001b[38;5;241m0\u001b[39m],[\u001b[38;5;241m0.0\u001b[39m,\u001b[38;5;241m0.0\u001b[39m,\u001b[38;5;241m0.0\u001b[39m]])\n\u001b[0;32m      4\u001b[0m conv4\u001b[38;5;241m.\u001b[39mstate_dict()[\u001b[38;5;124m'\u001b[39m\u001b[38;5;124mweight\u001b[39m\u001b[38;5;124m'\u001b[39m][\u001b[38;5;241m0\u001b[39m][\u001b[38;5;241m1\u001b[39m]\u001b[38;5;241m=\u001b[39mtorch\u001b[38;5;241m.\u001b[39mtensor([[\u001b[38;5;241m0.0\u001b[39m,\u001b[38;5;241m0.0\u001b[39m,\u001b[38;5;241m0.0\u001b[39m],[\u001b[38;5;241m0\u001b[39m,\u001b[38;5;241m0.5\u001b[39m,\u001b[38;5;241m0\u001b[39m],[\u001b[38;5;241m0.0\u001b[39m,\u001b[38;5;241m0.0\u001b[39m,\u001b[38;5;241m0.0\u001b[39m]])\n",
      "\u001b[1;31mNameError\u001b[0m: name 'nn' is not defined"
     ]
    }
   ],
   "source": [
    "# Multiple input and output channel \n",
    "conv4 = nn.Conv2d(in_channels=2, out_channels=3,kernel_size=3)\n",
    "conv4.state_dict()['weight'][0][0]=torch.tensor([[0.0,0.0,0.0],[0,0.5,0],[0.0,0.0,0.0]])\n",
    "conv4.state_dict()['weight'][0][1]=torch.tensor([[0.0,0.0,0.0],[0,0.5,0],[0.0,0.0,0.0]])\n",
    "\n",
    "\n",
    "conv4.state_dict()['weight'][1][0]=torch.tensor([[0.0,0.0,0.0],[0,1,0],[0.0,0.0,0.0]])\n",
    "conv4.state_dict()['weight'][1][1]=torch.tensor([[0.0,0.0,0.0],[0,-1,0],[0.0,0.0,0.0]])\n",
    "\n",
    "conv4.state_dict()['weight'][2][0]=torch.tensor([[1.0,0,-1.0],[2.0,0,-2.0],[1.0,0.0,-1.0]])\n",
    "conv4.state_dict()['weight'][2][1]=torch.tensor([[1.0,2.0,1.0],[0.0,0.0,0.0],[-1.0,-2.0,-1.0]])"
   ]
  },
  {
   "cell_type": "code",
   "execution_count": 5,
   "id": "642c2160-da54-4818-b7ab-1114e83c6d37",
   "metadata": {},
   "outputs": [
    {
     "ename": "NameError",
     "evalue": "name 'torch' is not defined",
     "output_type": "error",
     "traceback": [
      "\u001b[1;31m---------------------------------------------------------------------------\u001b[0m",
      "\u001b[1;31mNameError\u001b[0m                                 Traceback (most recent call last)",
      "Cell \u001b[1;32mIn[5], line 2\u001b[0m\n\u001b[0;32m      1\u001b[0m \u001b[38;5;66;03m# For each output, set bias as zero \u001b[39;00m\n\u001b[1;32m----> 2\u001b[0m conv4\u001b[38;5;241m.\u001b[39mstate_dict()[\u001b[38;5;124m'\u001b[39m\u001b[38;5;124mbias\u001b[39m\u001b[38;5;124m'\u001b[39m][:]\u001b[38;5;241m=\u001b[39mtorch\u001b[38;5;241m.\u001b[39mtensor([\u001b[38;5;241m0.0\u001b[39m,\u001b[38;5;241m0.0\u001b[39m,\u001b[38;5;241m0.0\u001b[39m])\n",
      "\u001b[1;31mNameError\u001b[0m: name 'torch' is not defined"
     ]
    }
   ],
   "source": [
    "# For each output, set bias as zero \n",
    "conv4.state_dict()['bias'][:]=torch.tensor([0.0,0.0,0.0])"
   ]
  },
  {
   "cell_type": "code",
   "execution_count": 7,
   "id": "05b1afb2-e883-465f-9d46-b653fa92be75",
   "metadata": {},
   "outputs": [
    {
     "ename": "NameError",
     "evalue": "name 'torch' is not defined",
     "output_type": "error",
     "traceback": [
      "\u001b[1;31m---------------------------------------------------------------------------\u001b[0m",
      "\u001b[1;31mNameError\u001b[0m                                 Traceback (most recent call last)",
      "Cell \u001b[1;32mIn[7], line 2\u001b[0m\n\u001b[0;32m      1\u001b[0m \u001b[38;5;66;03m# Create two channel image \u001b[39;00m\n\u001b[1;32m----> 2\u001b[0m image4\u001b[38;5;241m=\u001b[39mtorch\u001b[38;5;241m.\u001b[39mzeros(\u001b[38;5;241m1\u001b[39m,\u001b[38;5;241m2\u001b[39m,\u001b[38;5;241m5\u001b[39m,\u001b[38;5;241m5\u001b[39m)\n\u001b[0;32m      3\u001b[0m image4[\u001b[38;5;241m0\u001b[39m][\u001b[38;5;241m0\u001b[39m]\u001b[38;5;241m=\u001b[39mtorch\u001b[38;5;241m.\u001b[39mones(\u001b[38;5;241m5\u001b[39m,\u001b[38;5;241m5\u001b[39m)\n\u001b[0;32m      4\u001b[0m image4[\u001b[38;5;241m0\u001b[39m][\u001b[38;5;241m1\u001b[39m][\u001b[38;5;241m2\u001b[39m][\u001b[38;5;241m2\u001b[39m]\u001b[38;5;241m=\u001b[39m\u001b[38;5;241m1\u001b[39m\n",
      "\u001b[1;31mNameError\u001b[0m: name 'torch' is not defined"
     ]
    }
   ],
   "source": [
    "# Create two channel image \n",
    "image4=torch.zeros(1,2,5,5)\n",
    "image4[0][0]=torch.ones(5,5)\n",
    "image4[0][1][2][2]=1\n",
    "for channel,image in enumerate(image4[0]):\n",
    "    plt.imshow(image.detach().numpy(), interpolation='nearest', cmap=plt.cm.gray)\n",
    "    print(image)\n",
    "    plt.title(\"channel {}\".format(channel))\n",
    "    plt.colorbar()\n",
    "    plt.show()"
   ]
  },
  {
   "cell_type": "code",
   "execution_count": 9,
   "id": "3f405a3a-8dac-4997-bc1d-d588c10a5fad",
   "metadata": {},
   "outputs": [
    {
     "ename": "NameError",
     "evalue": "name 'conv4' is not defined",
     "output_type": "error",
     "traceback": [
      "\u001b[1;31m---------------------------------------------------------------------------\u001b[0m",
      "\u001b[1;31mNameError\u001b[0m                                 Traceback (most recent call last)",
      "Cell \u001b[1;32mIn[9], line 2\u001b[0m\n\u001b[0;32m      1\u001b[0m \u001b[38;5;66;03m# Perform convolution network \u001b[39;00m\n\u001b[1;32m----> 2\u001b[0m z\u001b[38;5;241m=\u001b[39mconv4(image4)\n\u001b[0;32m      3\u001b[0m z\n",
      "\u001b[1;31mNameError\u001b[0m: name 'conv4' is not defined"
     ]
    }
   ],
   "source": [
    "# Perform convolution network \n",
    "z=conv4(image4)\n",
    "z"
   ]
  },
  {
   "cell_type": "code",
   "execution_count": null,
   "id": "c3dad5a8-c5e5-4fe4-9a60-bf0cee730b56",
   "metadata": {},
   "outputs": [],
   "source": []
  }
 ],
 "metadata": {
  "kernelspec": {
   "display_name": "Python 3 (ipykernel)",
   "language": "python",
   "name": "python3"
  },
  "language_info": {
   "codemirror_mode": {
    "name": "ipython",
    "version": 3
   },
   "file_extension": ".py",
   "mimetype": "text/x-python",
   "name": "python",
   "nbconvert_exporter": "python",
   "pygments_lexer": "ipython3",
   "version": "3.12.7"
  }
 },
 "nbformat": 4,
 "nbformat_minor": 5
}
