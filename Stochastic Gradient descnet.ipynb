{
 "cells": [
  {
   "cell_type": "code",
   "execution_count": 1,
   "id": "4b4bf315-c8ec-4bb2-b7dd-fc6fa2982ed3",
   "metadata": {},
   "outputs": [],
   "source": [
    "import numpy as np \n",
    "import matplotlib.pyplot as plt \n",
    "import pandas as pd \n",
    "import torch\n",
    "\n",
    "from mpl_toolkits import mplot3d"
   ]
  },
  {
   "cell_type": "code",
   "execution_count": 2,
   "id": "85184e6e-ada7-4603-ab48-42fb006116eb",
   "metadata": {},
   "outputs": [],
   "source": [
    "# the class for the plot diagram \n",
    "\n",
    "class plot_error_surfaces(object):\n",
    "    def __init__(self, w_range, b_range, X,Y, n_samples = 30, go = True):\n",
    "        W = np.linspace(-w_range, w_range, n_samples)\n",
    "        B = np.linspace(-b_range, b_range, n_samples)\n",
    "        w,b = np.meshgrid(W,B)\n",
    "        Z = np.zeros((30,30))\n",
    "        count1 = 0\n",
    "        self.y = Y.numpy()\n",
    "        self.x = X.numpy()\n",
    "        for w1, b1 in zip(w,b):\n",
    "            count2 = 0\n",
    "            for w2, b2 in zip(w1,b1):\n",
    "                Z[count1, count2] = np.mean((self.y - w2* self.x + b2) ** 2)\n",
    "                count2 += 1 \n",
    "            count1 +=1\n",
    "        self.Z = Z\n",
    "        self.w = w\n",
    "        self.b = b\n",
    "        self.W = []\n",
    "        self.B = []\n",
    "        self.LOSS = []\n",
    "        self.n = 0\n",
    "        if go == True:\n",
    "            plt.figure()\n",
    "            plt.figure(figsize = (7.5, 5))\n",
    "            plt.axes(projection = '3d').plot_surface(self.w, self.b, self.Z,rstride=1)\n",
    "            plt.title('Loss surface')\n",
    "            plt.xlabel('w')\n",
    "            plt.ylabel('b')\n",
    "            plt.contour(self.w, self.b, self.Z)\n",
    "            plt.show()\n",
    "\n",
    "    # Setter \n",
    "    def set_para_loss(self, W, B, loss):\n",
    "        self.n = self.n+1\n",
    "        self.W.append(W)\n",
    "        self.B.append(B)\n",
    "        self.LOSS.append(loss)\n",
    "\n",
    "    # Plot diagram \n",
    "    def final_plot(self):\n",
    "        ax= plt.axes(projection='3d')\n",
    "        ax.plot_wireframe(self.w, self.b, self.Z)\n",
    "        ax.scatter(self.W, self.B, self.LOXX, c='r', market='x', s=200, alpha=1)\n",
    "        plt.figure()\n",
    "        plt.contour(self.w, self.b, self.Z)\n",
    "        plt.scatter(self.W, self.B, c='r', market='x')\n",
    "        plt.xlabel('w')\n",
    "        plt.ylabel('b')\n",
    "        plt.show()\n",
    "        \n",
    "    # Plot diagram \n",
    "    def sub_plot(self):\n",
    "        plt.subplot(121)\n",
    "        plt.ylim\n",
    "        plt.plot(self.x, self.y, 'ro', lael = \"Training points\")\n",
    "        plt.plot(self.x, self.W[-1] * self.x + self.B[-1], label = \"Estimate Line\")\n",
    "        plt.xlabel('x')\n",
    "        plt.ylabel('y')\n",
    "        plt.ylim((-10, 15))\n",
    "        plt.title('Data space Iteration:' + str(self.n))\n",
    "        plt.subplot(122)\n",
    "        plt.contour(self.w, self.b, self.Z)\n",
    "        plt.scatter(self.W, self.B, c='r', marker='x')\n",
    "        plt.title('Loss surface contour iteration' + str(self.n))\n",
    "        plt.xlabel('w')\n",
    "        plt.ylabel('b')\n",
    "        plt.show()"
   ]
  },
  {
   "cell_type": "code",
   "execution_count": 3,
   "id": "e56d0b34-9e13-4623-ad6b-9a49448ead30",
   "metadata": {},
   "outputs": [
    {
     "data": {
      "text/plain": [
       "<torch._C.Generator at 0x1da9c1f6a70>"
      ]
     },
     "execution_count": 3,
     "metadata": {},
     "output_type": "execute_result"
    }
   ],
   "source": [
    " # set random seed \n",
    "\n",
    "torch.manual_seed(1)"
   ]
  },
  {
   "cell_type": "code",
   "execution_count": 4,
   "id": "cc9503b5-54d6-4566-810e-85f5c5f74da2",
   "metadata": {},
   "outputs": [],
   "source": [
    "# Set up actual data and simulated data \n",
    "X = torch.arange(-3,3,0.1).view(-1,1)\n",
    "f = 1* X-1 \n",
    "Y = f + .1 * torch.randn(X.size())"
   ]
  },
  {
   "cell_type": "code",
   "execution_count": null,
   "id": "f33b9d2c-df3d-4a06-8919-87ffe24ec4c8",
   "metadata": {},
   "outputs": [],
   "source": [
    "# Plot the result \n",
    "plt.plot(X.numpy(), Y.numpy(), 'rx', label='y')\n",
    "plt.plot(X.numpy(), f.numpy(), label='f')\n",
    "\n",
    "plt.xlabel('x')\n",
    "plt.ylabel('y')\n",
    "plt.legend()\n",
    "plt.show()"
   ]
  }
 ],
 "metadata": {
  "kernelspec": {
   "display_name": "Python 3 (ipykernel)",
   "language": "python",
   "name": "python3"
  },
  "language_info": {
   "codemirror_mode": {
    "name": "ipython",
    "version": 3
   },
   "file_extension": ".py",
   "mimetype": "text/x-python",
   "name": "python",
   "nbconvert_exporter": "python",
   "pygments_lexer": "ipython3",
   "version": "3.12.7"
  }
 },
 "nbformat": 4,
 "nbformat_minor": 5
}
